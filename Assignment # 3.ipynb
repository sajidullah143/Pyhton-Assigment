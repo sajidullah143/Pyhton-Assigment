{
 "cells": [
  {
   "cell_type": "code",
   "execution_count": 1,
   "metadata": {},
   "outputs": [
    {
     "name": "stdout",
     "output_type": "stream",
     "text": [
      "Enter First Number 5\n",
      "Enter Second Number 7\n",
      "Enter Operator +\n",
      "12\n"
     ]
    }
   ],
   "source": [
    "a = int(input(\"Enter First Number \"))\n",
    "b = int(input(\"Enter Second Number \"))\n",
    "op = input(\"Enter Operator \")\n",
    "if op=='+':\n",
    "    print(a+b)\n",
    "elif op=='-':\n",
    "    print(a-b)\n",
    "elif op=='*':\n",
    "    print(a*b)\n",
    "elif op=='/':\n",
    "    print(a/b)\n",
    "elif op=='^':\n",
    "    print(a**b)\n",
    "else:\n",
    "    print(\"Invalid Operator\")"
   ]
  },
  {
   "cell_type": "code",
   "execution_count": 2,
   "metadata": {},
   "outputs": [
    {
     "name": "stdout",
     "output_type": "stream",
     "text": [
      "12345\n"
     ]
    }
   ],
   "source": [
    "Student = ['Sajid',12345,'CS','Iqra university']\n",
    "for x in Student:\n",
    "    if type(x)==int:\n",
    "        print(x)"
   ]
  },
  {
   "cell_type": "code",
   "execution_count": 4,
   "metadata": {},
   "outputs": [
    {
     "name": "stdout",
     "output_type": "stream",
     "text": [
      "{'name': 'Sajid', 'reg': 12345, 'program': 'CS'}\n"
     ]
    }
   ],
   "source": [
    "stdnt = {'name':'Sajid','reg':12345}\n",
    "stdnt.update({'program':'CS'})\n",
    "print(stdnt)"
   ]
  },
  {
   "cell_type": "code",
   "execution_count": 5,
   "metadata": {},
   "outputs": [
    {
     "name": "stdout",
     "output_type": "stream",
     "text": [
      "17500\n"
     ]
    }
   ],
   "source": [
    "salary = {1000,'Ali',2500,6000,8000}\n",
    "s = 0\n",
    "for x in salary:\n",
    "    if type(x)==int:\n",
    "        s+=x\n",
    "print(s)"
   ]
  },
  {
   "cell_type": "code",
   "execution_count": 6,
   "metadata": {},
   "outputs": [
    {
     "name": "stdout",
     "output_type": "stream",
     "text": [
      "Unique Items ['honda', 'audi', 'toyota', 'bmw']\n",
      "Duplicate Items ['audi']\n"
     ]
    }
   ],
   "source": [
    "cars = ['honda','audi','toyota','audi','bmw']\n",
    "seen = []\n",
    "uniq = []\n",
    "for x in cars:\n",
    "    if x not in uniq:\n",
    "        uniq.append(x)\n",
    "    else:\n",
    "        seen.append(x)\n",
    "print(\"Unique Items \"+ str(uniq))\n",
    "print(\"Duplicate Items \"+ str(seen))"
   ]
  },
  {
   "cell_type": "code",
   "execution_count": 7,
   "metadata": {},
   "outputs": [
    {
     "name": "stdout",
     "output_type": "stream",
     "text": [
      "true\n"
     ]
    }
   ],
   "source": [
    "if 'name' in stdnt:\n",
    "    print('true')"
   ]
  },
  {
   "cell_type": "code",
   "execution_count": null,
   "metadata": {},
   "outputs": [],
   "source": []
  }
 ],
 "metadata": {
  "kernelspec": {
   "display_name": "Python 3",
   "language": "python",
   "name": "python3"
  },
  "language_info": {
   "codemirror_mode": {
    "name": "ipython",
    "version": 3
   },
   "file_extension": ".py",
   "mimetype": "text/x-python",
   "name": "python",
   "nbconvert_exporter": "python",
   "pygments_lexer": "ipython3",
   "version": "3.7.3"
  }
 },
 "nbformat": 4,
 "nbformat_minor": 2
}
